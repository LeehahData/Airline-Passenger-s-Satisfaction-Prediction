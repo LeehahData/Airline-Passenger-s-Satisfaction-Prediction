{
 "cells": [
  {
   "cell_type": "markdown",
   "id": "975f7060",
   "metadata": {},
   "source": [
    "## IMPORTING LIBRARIES"
   ]
  },
  {
   "cell_type": "code",
   "execution_count": 1,
   "id": "99d7c102",
   "metadata": {},
   "outputs": [],
   "source": [
    "import itertools\n",
    "import numpy as np\n",
    "import matplotlib.pyplot as plt\n",
    "from matplotlib.ticker import NullFormatter\n",
    "import pandas as pd\n",
    "import numpy as np\n",
    "import matplotlib.ticker as ticker\n",
    "from sklearn import preprocessing\n",
    "%matplotlib inline"
   ]
  },
  {
   "cell_type": "code",
   "execution_count": 2,
   "id": "6dcbef67",
   "metadata": {},
   "outputs": [
    {
     "data": {
      "text/html": [
       "<div>\n",
       "<style scoped>\n",
       "    .dataframe tbody tr th:only-of-type {\n",
       "        vertical-align: middle;\n",
       "    }\n",
       "\n",
       "    .dataframe tbody tr th {\n",
       "        vertical-align: top;\n",
       "    }\n",
       "\n",
       "    .dataframe thead th {\n",
       "        text-align: right;\n",
       "    }\n",
       "</style>\n",
       "<table border=\"1\" class=\"dataframe\">\n",
       "  <thead>\n",
       "    <tr style=\"text-align: right;\">\n",
       "      <th></th>\n",
       "      <th>Unnamed: 0</th>\n",
       "      <th>id</th>\n",
       "      <th>Gender</th>\n",
       "      <th>Customer Type</th>\n",
       "      <th>Age</th>\n",
       "      <th>Type of Travel</th>\n",
       "      <th>Class</th>\n",
       "      <th>Flight Distance</th>\n",
       "      <th>Inflight wifi service</th>\n",
       "      <th>Departure/Arrival time convenient</th>\n",
       "      <th>...</th>\n",
       "      <th>Inflight entertainment</th>\n",
       "      <th>On-board service</th>\n",
       "      <th>Leg room service</th>\n",
       "      <th>Baggage handling</th>\n",
       "      <th>Checkin service</th>\n",
       "      <th>Inflight service</th>\n",
       "      <th>Cleanliness</th>\n",
       "      <th>Departure Delay in Minutes</th>\n",
       "      <th>Arrival Delay in Minutes</th>\n",
       "      <th>satisfaction</th>\n",
       "    </tr>\n",
       "  </thead>\n",
       "  <tbody>\n",
       "    <tr>\n",
       "      <th>0</th>\n",
       "      <td>0</td>\n",
       "      <td>70172</td>\n",
       "      <td>Male</td>\n",
       "      <td>Loyal Customer</td>\n",
       "      <td>13</td>\n",
       "      <td>Personal Travel</td>\n",
       "      <td>Eco Plus</td>\n",
       "      <td>460</td>\n",
       "      <td>3</td>\n",
       "      <td>4</td>\n",
       "      <td>...</td>\n",
       "      <td>5</td>\n",
       "      <td>4</td>\n",
       "      <td>3</td>\n",
       "      <td>4</td>\n",
       "      <td>4</td>\n",
       "      <td>5</td>\n",
       "      <td>5</td>\n",
       "      <td>25</td>\n",
       "      <td>18.0</td>\n",
       "      <td>neutral or dissatisfied</td>\n",
       "    </tr>\n",
       "    <tr>\n",
       "      <th>1</th>\n",
       "      <td>1</td>\n",
       "      <td>5047</td>\n",
       "      <td>Male</td>\n",
       "      <td>disloyal Customer</td>\n",
       "      <td>25</td>\n",
       "      <td>Business travel</td>\n",
       "      <td>Business</td>\n",
       "      <td>235</td>\n",
       "      <td>3</td>\n",
       "      <td>2</td>\n",
       "      <td>...</td>\n",
       "      <td>1</td>\n",
       "      <td>1</td>\n",
       "      <td>5</td>\n",
       "      <td>3</td>\n",
       "      <td>1</td>\n",
       "      <td>4</td>\n",
       "      <td>1</td>\n",
       "      <td>1</td>\n",
       "      <td>6.0</td>\n",
       "      <td>neutral or dissatisfied</td>\n",
       "    </tr>\n",
       "    <tr>\n",
       "      <th>2</th>\n",
       "      <td>2</td>\n",
       "      <td>110028</td>\n",
       "      <td>Female</td>\n",
       "      <td>Loyal Customer</td>\n",
       "      <td>26</td>\n",
       "      <td>Business travel</td>\n",
       "      <td>Business</td>\n",
       "      <td>1142</td>\n",
       "      <td>2</td>\n",
       "      <td>2</td>\n",
       "      <td>...</td>\n",
       "      <td>5</td>\n",
       "      <td>4</td>\n",
       "      <td>3</td>\n",
       "      <td>4</td>\n",
       "      <td>4</td>\n",
       "      <td>4</td>\n",
       "      <td>5</td>\n",
       "      <td>0</td>\n",
       "      <td>0.0</td>\n",
       "      <td>satisfied</td>\n",
       "    </tr>\n",
       "    <tr>\n",
       "      <th>3</th>\n",
       "      <td>3</td>\n",
       "      <td>24026</td>\n",
       "      <td>Female</td>\n",
       "      <td>Loyal Customer</td>\n",
       "      <td>25</td>\n",
       "      <td>Business travel</td>\n",
       "      <td>Business</td>\n",
       "      <td>562</td>\n",
       "      <td>2</td>\n",
       "      <td>5</td>\n",
       "      <td>...</td>\n",
       "      <td>2</td>\n",
       "      <td>2</td>\n",
       "      <td>5</td>\n",
       "      <td>3</td>\n",
       "      <td>1</td>\n",
       "      <td>4</td>\n",
       "      <td>2</td>\n",
       "      <td>11</td>\n",
       "      <td>9.0</td>\n",
       "      <td>neutral or dissatisfied</td>\n",
       "    </tr>\n",
       "    <tr>\n",
       "      <th>4</th>\n",
       "      <td>4</td>\n",
       "      <td>119299</td>\n",
       "      <td>Male</td>\n",
       "      <td>Loyal Customer</td>\n",
       "      <td>61</td>\n",
       "      <td>Business travel</td>\n",
       "      <td>Business</td>\n",
       "      <td>214</td>\n",
       "      <td>3</td>\n",
       "      <td>3</td>\n",
       "      <td>...</td>\n",
       "      <td>3</td>\n",
       "      <td>3</td>\n",
       "      <td>4</td>\n",
       "      <td>4</td>\n",
       "      <td>3</td>\n",
       "      <td>3</td>\n",
       "      <td>3</td>\n",
       "      <td>0</td>\n",
       "      <td>0.0</td>\n",
       "      <td>satisfied</td>\n",
       "    </tr>\n",
       "  </tbody>\n",
       "</table>\n",
       "<p>5 rows × 25 columns</p>\n",
       "</div>"
      ],
      "text/plain": [
       "   Unnamed: 0      id  Gender      Customer Type  Age   Type of Travel  \\\n",
       "0           0   70172    Male     Loyal Customer   13  Personal Travel   \n",
       "1           1    5047    Male  disloyal Customer   25  Business travel   \n",
       "2           2  110028  Female     Loyal Customer   26  Business travel   \n",
       "3           3   24026  Female     Loyal Customer   25  Business travel   \n",
       "4           4  119299    Male     Loyal Customer   61  Business travel   \n",
       "\n",
       "      Class  Flight Distance  Inflight wifi service  \\\n",
       "0  Eco Plus              460                      3   \n",
       "1  Business              235                      3   \n",
       "2  Business             1142                      2   \n",
       "3  Business              562                      2   \n",
       "4  Business              214                      3   \n",
       "\n",
       "   Departure/Arrival time convenient  ...  Inflight entertainment  \\\n",
       "0                                  4  ...                       5   \n",
       "1                                  2  ...                       1   \n",
       "2                                  2  ...                       5   \n",
       "3                                  5  ...                       2   \n",
       "4                                  3  ...                       3   \n",
       "\n",
       "   On-board service  Leg room service  Baggage handling  Checkin service  \\\n",
       "0                 4                 3                 4                4   \n",
       "1                 1                 5                 3                1   \n",
       "2                 4                 3                 4                4   \n",
       "3                 2                 5                 3                1   \n",
       "4                 3                 4                 4                3   \n",
       "\n",
       "   Inflight service  Cleanliness  Departure Delay in Minutes  \\\n",
       "0                 5            5                          25   \n",
       "1                 4            1                           1   \n",
       "2                 4            5                           0   \n",
       "3                 4            2                          11   \n",
       "4                 3            3                           0   \n",
       "\n",
       "   Arrival Delay in Minutes             satisfaction  \n",
       "0                      18.0  neutral or dissatisfied  \n",
       "1                       6.0  neutral or dissatisfied  \n",
       "2                       0.0                satisfied  \n",
       "3                       9.0  neutral or dissatisfied  \n",
       "4                       0.0                satisfied  \n",
       "\n",
       "[5 rows x 25 columns]"
      ]
     },
     "execution_count": 2,
     "metadata": {},
     "output_type": "execute_result"
    }
   ],
   "source": [
    "import zipfile\n",
    "# open zipped dataset\n",
    "with zipfile.ZipFile(r\"C:\\Users\\\\HP\\Downloads\\\\archive (2).zip\") as z:\n",
    "   # open the csv file in the dataset\n",
    "   with z.open(\"train.csv\") as f:\n",
    "       \n",
    "      # read the dataset\n",
    "      train_data = pd.read_csv(f)\n",
    "       \n",
    "      # display dataset\n",
    "      train_df = pd.DataFrame(train_data)\n",
    "\n",
    "train_df.head()"
   ]
  },
  {
   "cell_type": "code",
   "execution_count": 3,
   "id": "c6f03ec4",
   "metadata": {},
   "outputs": [
    {
     "data": {
      "text/plain": [
       "(103904, 25)"
      ]
     },
     "execution_count": 3,
     "metadata": {},
     "output_type": "execute_result"
    }
   ],
   "source": [
    "train_df.shape"
   ]
  },
  {
   "cell_type": "code",
   "execution_count": 4,
   "id": "54f533c3",
   "metadata": {},
   "outputs": [
    {
     "data": {
      "text/plain": [
       "Unnamed: 0                             0\n",
       "id                                     0\n",
       "Gender                                 0\n",
       "Customer Type                          0\n",
       "Age                                    0\n",
       "Type of Travel                         0\n",
       "Class                                  0\n",
       "Flight Distance                        0\n",
       "Inflight wifi service                  0\n",
       "Departure/Arrival time convenient      0\n",
       "Ease of Online booking                 0\n",
       "Gate location                          0\n",
       "Food and drink                         0\n",
       "Online boarding                        0\n",
       "Seat comfort                           0\n",
       "Inflight entertainment                 0\n",
       "On-board service                       0\n",
       "Leg room service                       0\n",
       "Baggage handling                       0\n",
       "Checkin service                        0\n",
       "Inflight service                       0\n",
       "Cleanliness                            0\n",
       "Departure Delay in Minutes             0\n",
       "Arrival Delay in Minutes             310\n",
       "satisfaction                           0\n",
       "dtype: int64"
      ]
     },
     "execution_count": 4,
     "metadata": {},
     "output_type": "execute_result"
    }
   ],
   "source": [
    "#checking for missing values\n",
    "train_df.isnull().sum()"
   ]
  },
  {
   "cell_type": "code",
   "execution_count": 5,
   "id": "4a943406",
   "metadata": {},
   "outputs": [
    {
     "data": {
      "text/plain": [
       "Unnamed: 0                           0\n",
       "id                                   0\n",
       "Gender                               0\n",
       "Customer Type                        0\n",
       "Age                                  0\n",
       "Type of Travel                       0\n",
       "Class                                0\n",
       "Flight Distance                      0\n",
       "Inflight wifi service                0\n",
       "Departure/Arrival time convenient    0\n",
       "Ease of Online booking               0\n",
       "Gate location                        0\n",
       "Food and drink                       0\n",
       "Online boarding                      0\n",
       "Seat comfort                         0\n",
       "Inflight entertainment               0\n",
       "On-board service                     0\n",
       "Leg room service                     0\n",
       "Baggage handling                     0\n",
       "Checkin service                      0\n",
       "Inflight service                     0\n",
       "Cleanliness                          0\n",
       "Departure Delay in Minutes           0\n",
       "Arrival Delay in Minutes             0\n",
       "satisfaction                         0\n",
       "dtype: int64"
      ]
     },
     "execution_count": 5,
     "metadata": {},
     "output_type": "execute_result"
    }
   ],
   "source": [
    "#dropping the missing values\n",
    "train_df.dropna(subset=['Arrival Delay in Minutes'], inplace=True)\n",
    "train_df.isnull().sum()"
   ]
  },
  {
   "cell_type": "markdown",
   "id": "83dbb31d",
   "metadata": {},
   "source": [
    "## Data Visualization and Preprocessing"
   ]
  },
  {
   "cell_type": "code",
   "execution_count": 6,
   "id": "e906f9fe",
   "metadata": {},
   "outputs": [
    {
     "data": {
      "text/plain": [
       "neutral or dissatisfied    58697\n",
       "satisfied                  44897\n",
       "Name: satisfaction, dtype: int64"
      ]
     },
     "execution_count": 6,
     "metadata": {},
     "output_type": "execute_result"
    }
   ],
   "source": [
    "#lets see how many of each classes is in the dataset\n",
    "train_df['satisfaction'].value_counts()"
   ]
  },
  {
   "cell_type": "markdown",
   "id": "110b9ba9",
   "metadata": {},
   "source": [
    "58879 people were neutral or dissatisfied with the airline performance while 45025 people were satisfied with the airline\n",
    "services"
   ]
  },
  {
   "cell_type": "code",
   "execution_count": 7,
   "id": "db661439",
   "metadata": {},
   "outputs": [
    {
     "data": {
      "text/plain": [
       "Female    52576\n",
       "Male      51018\n",
       "Name: Gender, dtype: int64"
      ]
     },
     "execution_count": 7,
     "metadata": {},
     "output_type": "execute_result"
    }
   ],
   "source": [
    "train_df['Gender'].value_counts()"
   ]
  },
  {
   "cell_type": "markdown",
   "id": "100cbcad",
   "metadata": {},
   "source": [
    "52727 of the passengers are female and 51177 are male"
   ]
  },
  {
   "cell_type": "code",
   "execution_count": 8,
   "id": "8a280024",
   "metadata": {},
   "outputs": [
    {
     "data": {
      "text/plain": [
       "Loyal Customer       84662\n",
       "disloyal Customer    18932\n",
       "Name: Customer Type, dtype: int64"
      ]
     },
     "execution_count": 8,
     "metadata": {},
     "output_type": "execute_result"
    }
   ],
   "source": [
    "train_df['Customer Type'].value_counts()"
   ]
  },
  {
   "cell_type": "markdown",
   "id": "c86263c5",
   "metadata": {},
   "source": [
    "84923 of the passengers were tagged as loyal customers and 18981 as disloyal customer"
   ]
  },
  {
   "cell_type": "code",
   "execution_count": 9,
   "id": "aa93635b",
   "metadata": {},
   "outputs": [],
   "source": [
    "#lets rename the customer type column to one word\n",
    "train_df.rename(columns={'Customer Type':'Customer_Type'},inplace=True)"
   ]
  },
  {
   "cell_type": "code",
   "execution_count": 10,
   "id": "3db8a031",
   "metadata": {},
   "outputs": [
    {
     "data": {
      "text/html": [
       "<div>\n",
       "<style scoped>\n",
       "    .dataframe tbody tr th:only-of-type {\n",
       "        vertical-align: middle;\n",
       "    }\n",
       "\n",
       "    .dataframe tbody tr th {\n",
       "        vertical-align: top;\n",
       "    }\n",
       "\n",
       "    .dataframe thead th {\n",
       "        text-align: right;\n",
       "    }\n",
       "</style>\n",
       "<table border=\"1\" class=\"dataframe\">\n",
       "  <thead>\n",
       "    <tr style=\"text-align: right;\">\n",
       "      <th></th>\n",
       "      <th>Customer_Type</th>\n",
       "      <th>Type of Travel</th>\n",
       "      <th>Gender</th>\n",
       "      <th>Class</th>\n",
       "    </tr>\n",
       "  </thead>\n",
       "  <tbody>\n",
       "    <tr>\n",
       "      <th>0</th>\n",
       "      <td>0</td>\n",
       "      <td>0</td>\n",
       "      <td>0</td>\n",
       "      <td>2</td>\n",
       "    </tr>\n",
       "    <tr>\n",
       "      <th>1</th>\n",
       "      <td>1</td>\n",
       "      <td>1</td>\n",
       "      <td>0</td>\n",
       "      <td>0</td>\n",
       "    </tr>\n",
       "    <tr>\n",
       "      <th>2</th>\n",
       "      <td>0</td>\n",
       "      <td>1</td>\n",
       "      <td>1</td>\n",
       "      <td>0</td>\n",
       "    </tr>\n",
       "    <tr>\n",
       "      <th>3</th>\n",
       "      <td>0</td>\n",
       "      <td>1</td>\n",
       "      <td>1</td>\n",
       "      <td>0</td>\n",
       "    </tr>\n",
       "    <tr>\n",
       "      <th>4</th>\n",
       "      <td>0</td>\n",
       "      <td>1</td>\n",
       "      <td>0</td>\n",
       "      <td>0</td>\n",
       "    </tr>\n",
       "  </tbody>\n",
       "</table>\n",
       "</div>"
      ],
      "text/plain": [
       "   Customer_Type  Type of Travel  Gender  Class\n",
       "0              0               0       0      2\n",
       "1              1               1       0      0\n",
       "2              0               1       1      0\n",
       "3              0               1       1      0\n",
       "4              0               1       0      0"
      ]
     },
     "execution_count": 10,
     "metadata": {},
     "output_type": "execute_result"
    }
   ],
   "source": [
    "#replacing some of the columns values to numeric values\n",
    "train_df['Customer_Type'].replace(to_replace=['Loyal Customer','disloyal Customer'], value=[0,1],inplace=True)\n",
    "train_df['Type of Travel'].replace(to_replace=['Personal Travel','Business travel'], value=[0,1],inplace=True)\n",
    "train_df['Gender'].replace(to_replace=['Male','Female'], value=[0,1],inplace=True)\n",
    "train_df['Class'].replace(to_replace=['Business','Eco', 'Eco Plus'], value=[0,1,2],inplace=True)\n",
    "train_df[['Customer_Type', 'Type of Travel', 'Gender', 'Class']].head()"
   ]
  },
  {
   "cell_type": "code",
   "execution_count": 11,
   "id": "012ba65e",
   "metadata": {},
   "outputs": [
    {
     "data": {
      "image/png": "[encoded data removed]",
      "text/plain": [
       "<Figure size 432x216 with 2 Axes>"
      ]
     },
     "metadata": {
      "needs_background": "light"
     },
     "output_type": "display_data"
    }
   ],
   "source": [
    "#lets plot the columns to understand the data better\n",
    "import seaborn as sns\n",
    "\n",
    "bins = np.linspace(train_df.Customer_Type.min(), train_df.Customer_Type.max(), 10)\n",
    "g = sns.FacetGrid(train_df, col=\"Gender\", hue=\"satisfaction\", palette=\"Set1\", col_wrap=2)\n",
    "g.map(plt.hist, 'Customer_Type', bins=bins, ec=\"k\")\n",
    "\n",
    "g.axes[-1].legend()\n",
    "plt.show()"
   ]
  },
  {
   "cell_type": "code",
   "execution_count": 12,
   "id": "8bb11f71",
   "metadata": {},
   "outputs": [
    {
     "data": {
      "image/png": "[encoded data removed]",
      "text/plain": [
       "<Figure size 432x216 with 2 Axes>"
      ]
     },
     "metadata": {
      "needs_background": "light"
     },
     "output_type": "display_data"
    }
   ],
   "source": [
    "bins = np.linspace(train_df.Age.min(), train_df.Age.max(), 10)\n",
    "g = sns.FacetGrid(train_df, col=\"Gender\", hue=\"satisfaction\", palette=\"Set1\", col_wrap=2)\n",
    "g.map(plt.hist, 'Age', bins=bins, ec=\"k\")\n",
    "\n",
    "g.axes[-1].legend()\n",
    "plt.show()"
   ]
  },
  {
   "cell_type": "code",
   "execution_count": 13,
   "id": "3668a316",
   "metadata": {},
   "outputs": [
    {
     "data": {
      "image/png": "[encoded data removed]",
      "text/plain": [
       "<Figure size 432x216 with 2 Axes>"
      ]
     },
     "metadata": {
      "needs_background": "light"
     },
     "output_type": "display_data"
    }
   ],
   "source": [
    "bins = np.linspace(train_df.Class.min(), train_df.Class.max(), 10)\n",
    "g = sns.FacetGrid(train_df, col=\"Gender\", hue=\"satisfaction\", palette=\"Set1\", col_wrap=2)\n",
    "g.map(plt.hist, 'Class', bins=bins, ec=\"k\")\n",
    "\n",
    "g.axes[-1].legend()\n",
    "plt.show()"
   ]
  },
  {
   "cell_type": "code",
   "execution_count": 14,
   "id": "cf01b0d7",
   "metadata": {},
   "outputs": [
    {
     "data": {
      "text/plain": [
       "Gender  satisfaction           \n",
       "0       neutral or dissatisfied    0.560390\n",
       "        satisfied                  0.439610\n",
       "1       neutral or dissatisfied    0.572638\n",
       "        satisfied                  0.427362\n",
       "Name: satisfaction, dtype: float64"
      ]
     },
     "execution_count": 14,
     "metadata": {},
     "output_type": "execute_result"
    }
   ],
   "source": [
    "train_df.groupby(['Gender'])['satisfaction'].value_counts(normalize=True)"
   ]
  },
  {
   "cell_type": "markdown",
   "id": "bfa5d1f1",
   "metadata": {},
   "source": [
    "1. 57 percent of female passengers were neutral or dissatisfied with the airline performance\n",
    "2. 42 percent of female passengers were satisfied with the airline performance\n",
    "3. 56 percent of male passengers were neutral or dissatisfied with the airline performance\n",
    "4. 43 percent of male passengers were satisfied with the airline performance"
   ]
  },
  {
   "cell_type": "code",
   "execution_count": 15,
   "id": "49ec3136",
   "metadata": {},
   "outputs": [
    {
     "data": {
      "text/plain": [
       "Class  satisfaction           \n",
       "0      satisfied                  0.694285\n",
       "       neutral or dissatisfied    0.305715\n",
       "1      neutral or dissatisfied    0.813899\n",
       "       satisfied                  0.186101\n",
       "2      neutral or dissatisfied    0.754151\n",
       "       satisfied                  0.245849\n",
       "Name: satisfaction, dtype: float64"
      ]
     },
     "execution_count": 15,
     "metadata": {},
     "output_type": "execute_result"
    }
   ],
   "source": [
    "train_df.groupby(['Class'])['satisfaction'].value_counts(normalize=True)"
   ]
  },
  {
   "cell_type": "markdown",
   "id": "1b527107",
   "metadata": {},
   "source": [
    "## Preprocessing"
   ]
  },
  {
   "cell_type": "code",
   "execution_count": 16,
   "id": "b05e5b29",
   "metadata": {},
   "outputs": [
    {
     "data": {
      "text/html": [
       "<div>\n",
       "<style scoped>\n",
       "    .dataframe tbody tr th:only-of-type {\n",
       "        vertical-align: middle;\n",
       "    }\n",
       "\n",
       "    .dataframe tbody tr th {\n",
       "        vertical-align: top;\n",
       "    }\n",
       "\n",
       "    .dataframe thead th {\n",
       "        text-align: right;\n",
       "    }\n",
       "</style>\n",
       "<table border=\"1\" class=\"dataframe\">\n",
       "  <thead>\n",
       "    <tr style=\"text-align: right;\">\n",
       "      <th></th>\n",
       "      <th>Gender</th>\n",
       "      <th>Customer_Type</th>\n",
       "      <th>Age</th>\n",
       "      <th>Type of Travel</th>\n",
       "      <th>Inflight service</th>\n",
       "      <th>Departure/Arrival time convenient</th>\n",
       "      <th>Inflight entertainment</th>\n",
       "      <th>Cleanliness</th>\n",
       "    </tr>\n",
       "  </thead>\n",
       "  <tbody>\n",
       "    <tr>\n",
       "      <th>0</th>\n",
       "      <td>0</td>\n",
       "      <td>0</td>\n",
       "      <td>13</td>\n",
       "      <td>0</td>\n",
       "      <td>5</td>\n",
       "      <td>4</td>\n",
       "      <td>5</td>\n",
       "      <td>5</td>\n",
       "    </tr>\n",
       "    <tr>\n",
       "      <th>1</th>\n",
       "      <td>0</td>\n",
       "      <td>1</td>\n",
       "      <td>25</td>\n",
       "      <td>1</td>\n",
       "      <td>4</td>\n",
       "      <td>2</td>\n",
       "      <td>1</td>\n",
       "      <td>1</td>\n",
       "    </tr>\n",
       "    <tr>\n",
       "      <th>2</th>\n",
       "      <td>1</td>\n",
       "      <td>0</td>\n",
       "      <td>26</td>\n",
       "      <td>1</td>\n",
       "      <td>4</td>\n",
       "      <td>2</td>\n",
       "      <td>5</td>\n",
       "      <td>5</td>\n",
       "    </tr>\n",
       "    <tr>\n",
       "      <th>3</th>\n",
       "      <td>1</td>\n",
       "      <td>0</td>\n",
       "      <td>25</td>\n",
       "      <td>1</td>\n",
       "      <td>4</td>\n",
       "      <td>5</td>\n",
       "      <td>2</td>\n",
       "      <td>2</td>\n",
       "    </tr>\n",
       "    <tr>\n",
       "      <th>4</th>\n",
       "      <td>0</td>\n",
       "      <td>0</td>\n",
       "      <td>61</td>\n",
       "      <td>1</td>\n",
       "      <td>3</td>\n",
       "      <td>3</td>\n",
       "      <td>3</td>\n",
       "      <td>3</td>\n",
       "    </tr>\n",
       "  </tbody>\n",
       "</table>\n",
       "</div>"
      ],
      "text/plain": [
       "   Gender  Customer_Type  Age  Type of Travel  Inflight service  \\\n",
       "0       0              0   13               0                 5   \n",
       "1       0              1   25               1                 4   \n",
       "2       1              0   26               1                 4   \n",
       "3       1              0   25               1                 4   \n",
       "4       0              0   61               1                 3   \n",
       "\n",
       "   Departure/Arrival time convenient  Inflight entertainment  Cleanliness  \n",
       "0                                  4                       5            5  \n",
       "1                                  2                       1            1  \n",
       "2                                  2                       5            5  \n",
       "3                                  5                       2            2  \n",
       "4                                  3                       3            3  "
      ]
     },
     "execution_count": 16,
     "metadata": {},
     "output_type": "execute_result"
    }
   ],
   "source": [
    "feature = train_df[['Gender', 'Customer_Type', 'Age', 'Type of Travel','Inflight service','Departure/Arrival time convenient','Inflight entertainment', 'Cleanliness']]\n",
    "feature.head()"
   ]
  },
  {
   "cell_type": "markdown",
   "id": "116856a1",
   "metadata": {},
   "source": [
    "## Feature Selection\n",
    "Defining feature sets and labels"
   ]
  },
  {
   "cell_type": "code",
   "execution_count": 17,
   "id": "08bdec62",
   "metadata": {},
   "outputs": [
    {
     "data": {
      "text/html": [
       "<div>\n",
       "<style scoped>\n",
       "    .dataframe tbody tr th:only-of-type {\n",
       "        vertical-align: middle;\n",
       "    }\n",
       "\n",
       "    .dataframe tbody tr th {\n",
       "        vertical-align: top;\n",
       "    }\n",
       "\n",
       "    .dataframe thead th {\n",
       "        text-align: right;\n",
       "    }\n",
       "</style>\n",
       "<table border=\"1\" class=\"dataframe\">\n",
       "  <thead>\n",
       "    <tr style=\"text-align: right;\">\n",
       "      <th></th>\n",
       "      <th>Gender</th>\n",
       "      <th>Customer_Type</th>\n",
       "      <th>Age</th>\n",
       "      <th>Type of Travel</th>\n",
       "      <th>Inflight service</th>\n",
       "      <th>Departure/Arrival time convenient</th>\n",
       "      <th>Inflight entertainment</th>\n",
       "      <th>Cleanliness</th>\n",
       "    </tr>\n",
       "  </thead>\n",
       "  <tbody>\n",
       "    <tr>\n",
       "      <th>0</th>\n",
       "      <td>0</td>\n",
       "      <td>0</td>\n",
       "      <td>13</td>\n",
       "      <td>0</td>\n",
       "      <td>5</td>\n",
       "      <td>4</td>\n",
       "      <td>5</td>\n",
       "      <td>5</td>\n",
       "    </tr>\n",
       "    <tr>\n",
       "      <th>1</th>\n",
       "      <td>0</td>\n",
       "      <td>1</td>\n",
       "      <td>25</td>\n",
       "      <td>1</td>\n",
       "      <td>4</td>\n",
       "      <td>2</td>\n",
       "      <td>1</td>\n",
       "      <td>1</td>\n",
       "    </tr>\n",
       "    <tr>\n",
       "      <th>2</th>\n",
       "      <td>1</td>\n",
       "      <td>0</td>\n",
       "      <td>26</td>\n",
       "      <td>1</td>\n",
       "      <td>4</td>\n",
       "      <td>2</td>\n",
       "      <td>5</td>\n",
       "      <td>5</td>\n",
       "    </tr>\n",
       "    <tr>\n",
       "      <th>3</th>\n",
       "      <td>1</td>\n",
       "      <td>0</td>\n",
       "      <td>25</td>\n",
       "      <td>1</td>\n",
       "      <td>4</td>\n",
       "      <td>5</td>\n",
       "      <td>2</td>\n",
       "      <td>2</td>\n",
       "    </tr>\n",
       "    <tr>\n",
       "      <th>4</th>\n",
       "      <td>0</td>\n",
       "      <td>0</td>\n",
       "      <td>61</td>\n",
       "      <td>1</td>\n",
       "      <td>3</td>\n",
       "      <td>3</td>\n",
       "      <td>3</td>\n",
       "      <td>3</td>\n",
       "    </tr>\n",
       "  </tbody>\n",
       "</table>\n",
       "</div>"
      ],
      "text/plain": [
       "   Gender  Customer_Type  Age  Type of Travel  Inflight service  \\\n",
       "0       0              0   13               0                 5   \n",
       "1       0              1   25               1                 4   \n",
       "2       1              0   26               1                 4   \n",
       "3       1              0   25               1                 4   \n",
       "4       0              0   61               1                 3   \n",
       "\n",
       "   Departure/Arrival time convenient  Inflight entertainment  Cleanliness  \n",
       "0                                  4                       5            5  \n",
       "1                                  2                       1            1  \n",
       "2                                  2                       5            5  \n",
       "3                                  5                       2            2  \n",
       "4                                  3                       3            3  "
      ]
     },
     "execution_count": 17,
     "metadata": {},
     "output_type": "execute_result"
    }
   ],
   "source": [
    "#defining feature sets\n",
    "X = feature\n",
    "X[0:5]"
   ]
  },
  {
   "cell_type": "code",
   "execution_count": 18,
   "id": "d423a99c",
   "metadata": {},
   "outputs": [
    {
     "data": {
      "text/plain": [
       "array(['neutral or dissatisfied', 'neutral or dissatisfied', 'satisfied',\n",
       "       'neutral or dissatisfied', 'satisfied'], dtype=object)"
      ]
     },
     "execution_count": 18,
     "metadata": {},
     "output_type": "execute_result"
    }
   ],
   "source": [
    "#Defining our labels\n",
    "y = train_df['satisfaction'].values\n",
    "y[0:5]"
   ]
  },
  {
   "cell_type": "markdown",
   "id": "ebe821d0",
   "metadata": {},
   "source": [
    "## Normalization of Data"
   ]
  },
  {
   "cell_type": "code",
   "execution_count": 19,
   "id": "89453fd3",
   "metadata": {},
   "outputs": [
    {
     "data": {
      "text/plain": [
       "array([[-1.01515429, -0.47288331, -1.7455419 , -1.49141359,  1.15621132,\n",
       "         0.61624939,  1.23152984,  1.30591327],\n",
       "       [-1.01515429,  2.1146866 , -0.95152625,  0.67050482,  0.30557993,\n",
       "        -0.6950321 , -1.76916641, -1.74243151],\n",
       "       [ 0.98507193, -0.47288331, -0.88535828,  0.67050482,  0.30557993,\n",
       "        -0.6950321 ,  1.23152984,  1.30591327],\n",
       "       [ 0.98507193, -0.47288331, -0.95152625,  0.67050482,  0.30557993,\n",
       "         1.27189014, -1.01899235, -0.98034531],\n",
       "       [-1.01515429, -0.47288331,  1.43052068,  0.67050482, -0.54505146,\n",
       "        -0.03939135, -0.26881829, -0.21825912]])"
      ]
     },
     "execution_count": 19,
     "metadata": {},
     "output_type": "execute_result"
    }
   ],
   "source": [
    "X= preprocessing.StandardScaler().fit(X).transform(X)\n",
    "X[0:5]"
   ]
  },
  {
   "cell_type": "markdown",
   "id": "7d96655b",
   "metadata": {},
   "source": [
    "## Classification\n",
    "couples of classification models will be used to train to model to know the best model to test the testing data with"
   ]
  },
  {
   "cell_type": "markdown",
   "id": "c8f3c5f3",
   "metadata": {},
   "source": [
    "### KNN Neighbors"
   ]
  },
  {
   "cell_type": "code",
   "execution_count": 20,
   "id": "4f8bcd89",
   "metadata": {},
   "outputs": [],
   "source": [
    "#import the knn classifier\n",
    "from sklearn.neighbors import KNeighborsClassifier"
   ]
  },
  {
   "cell_type": "code",
   "execution_count": 21,
   "id": "26de724f",
   "metadata": {},
   "outputs": [],
   "source": [
    "#spliting dataset into testing and training for the model\n",
    "from sklearn.model_selection import train_test_split\n",
    "X_train, X_test, y_train, y_test = train_test_split( X, y, test_size=0.2, random_state=4)"
   ]
  },
  {
   "cell_type": "code",
   "execution_count": 22,
   "id": "44e09677",
   "metadata": {},
   "outputs": [
    {
     "data": {
      "text/plain": [
       "array([0.81953762, 0.84482842, 0.85549496, 0.86201071, 0.86485834,\n",
       "       0.86741638, 0.86886433, 0.87036054, 0.87060186])"
      ]
     },
     "execution_count": 22,
     "metadata": {},
     "output_type": "execute_result"
    }
   ],
   "source": [
    "#calculate the accuracy of KNN for different values of k to find the best k\n",
    "from sklearn import metrics\n",
    "\n",
    "Ks = 10\n",
    "mean_acc = np.zeros((Ks-1))\n",
    "std_acc = np.zeros((Ks-1))\n",
    "\n",
    "for n in range(1,Ks):\n",
    "    \n",
    "    #Train Model and Predict  \n",
    "    neigh = KNeighborsClassifier(n_neighbors = n).fit(X_train,y_train)\n",
    "    yhat=neigh.predict(X_test)\n",
    "    mean_acc[n-1] = metrics.accuracy_score(y_test, yhat)\n",
    "\n",
    "    \n",
    "    std_acc[n-1]=np.std(yhat==y_test)/np.sqrt(yhat.shape[0])\n",
    "\n",
    "mean_acc"
   ]
  },
  {
   "cell_type": "code",
   "execution_count": 23,
   "id": "b03e822e",
   "metadata": {},
   "outputs": [
    {
     "data": {
      "image/png": "[encoded data removed]",
      "text/plain": [
       "<Figure size 432x288 with 1 Axes>"
      ]
     },
     "metadata": {
      "needs_background": "light"
     },
     "output_type": "display_data"
    },
    {
     "name": "stdout",
     "output_type": "stream",
     "text": [
      "The best accuracy was with 0.8706018630242772 with k= 9\n"
     ]
    }
   ],
   "source": [
    "#Plot the model accuracy for a different number of neighbors.\n",
    "plt.plot(range(1,Ks),mean_acc,'g')\n",
    "plt.fill_between(range(1,Ks),mean_acc - 1 * std_acc,mean_acc + 1 * std_acc, alpha=0.10)\n",
    "plt.fill_between(range(1,Ks),mean_acc - 3 * std_acc,mean_acc + 3 * std_acc, alpha=0.10,color=\"green\")\n",
    "plt.legend(('Accuracy ', '+/- 1xstd','+/- 3xstd'))\n",
    "plt.ylabel('Accuracy ')\n",
    "plt.xlabel('Number of Neighbors (K)')\n",
    "plt.tight_layout()\n",
    "plt.show()\n",
    "\n",
    "print( \"The best accuracy was with\", mean_acc.max(), \"with k=\", mean_acc.argmax()+1)"
   ]
  },
  {
   "cell_type": "code",
   "execution_count": 24,
   "id": "16de7b2c",
   "metadata": {},
   "outputs": [
    {
     "name": "stdout",
     "output_type": "stream",
     "text": [
      "Train set Accuracy:  0.8872036199095023\n",
      "Test set Accuracy:  0.8706018630242772\n"
     ]
    }
   ],
   "source": [
    "#lets use k=9 for the model\n",
    "k = 9\n",
    "neigh9 = KNeighborsClassifier(n_neighbors = k).fit(X_train,y_train)\n",
    "yhat9 = neigh9.predict(X_test)\n",
    "print(\"Train set Accuracy: \", metrics.accuracy_score(y_train, neigh9.predict(X_train)))\n",
    "print(\"Test set Accuracy: \", metrics.accuracy_score(y_test, yhat9))"
   ]
  },
  {
   "cell_type": "markdown",
   "id": "63ddd80b",
   "metadata": {},
   "source": [
    "### Decision Tree"
   ]
  },
  {
   "cell_type": "code",
   "execution_count": 25,
   "id": "384cb9a8",
   "metadata": {},
   "outputs": [
    {
     "data": {
      "text/plain": [
       "DecisionTreeClassifier(criterion='entropy', max_depth=4)"
      ]
     },
     "execution_count": 25,
     "metadata": {},
     "output_type": "execute_result"
    }
   ],
   "source": [
    "from sklearn.tree import DecisionTreeClassifier\n",
    "SatisfiedTree = DecisionTreeClassifier(criterion=\"entropy\", max_depth = 4)\n",
    "SatisfiedTree.fit(X_train,y_train)"
   ]
  },
  {
   "cell_type": "code",
   "execution_count": 26,
   "id": "eb739786",
   "metadata": {},
   "outputs": [
    {
     "name": "stdout",
     "output_type": "stream",
     "text": [
      "Satisfaction Tree's Accuracy:  0.8581977894686037\n"
     ]
    }
   ],
   "source": [
    "#prediction of the testset\n",
    "SatisfiedTree = SatisfiedTree.predict(X_test)\n",
    "\n",
    "# evaluation of the testset\n",
    "print(\"Satisfaction Tree's Accuracy: \", metrics.accuracy_score(y_test, SatisfiedTree))"
   ]
  },
  {
   "cell_type": "code",
   "execution_count": 27,
   "id": "33a50816",
   "metadata": {},
   "outputs": [
    {
     "data": {
      "text/plain": [
       "[Text(167.4, 195.696, 'X[3] <= -0.41\\nentropy = 0.988\\nsamples = 82875\\nvalue = [46876, 35999]'),\n",
       " Text(83.7, 152.208, 'X[2] <= 1.794\\nentropy = 0.476\\nsamples = 25627\\nvalue = [23010, 2617]'),\n",
       " Text(41.85, 108.72, 'X[5] <= 0.288\\nentropy = 0.479\\nsamples = 24043\\nvalue = [21559, 2484]'),\n",
       " Text(20.925, 65.232, 'X[4] <= 0.731\\nentropy = 0.465\\nsamples = 7831\\nvalue = [7058, 773]'),\n",
       " Text(10.4625, 21.744, 'entropy = 0.475\\nsamples = 7054\\nvalue = [6336, 718]'),\n",
       " Text(31.387500000000003, 21.744, 'entropy = 0.369\\nsamples = 777\\nvalue = [722, 55]'),\n",
       " Text(62.775000000000006, 65.232, 'X[6] <= -1.394\\nentropy = 0.486\\nsamples = 16212\\nvalue = [14501, 1711]'),\n",
       " Text(52.3125, 21.744, 'entropy = 0.517\\nsamples = 2750\\nvalue = [2432, 318]'),\n",
       " Text(73.2375, 21.744, 'entropy = 0.48\\nsamples = 13462\\nvalue = [12069, 1393]'),\n",
       " Text(125.55000000000001, 108.72, 'X[6] <= 0.856\\nentropy = 0.416\\nsamples = 1584\\nvalue = [1451, 133]'),\n",
       " Text(104.625, 65.232, 'X[5] <= -1.023\\nentropy = 0.4\\nsamples = 1258\\nvalue = [1158, 100]'),\n",
       " Text(94.16250000000001, 21.744, 'entropy = 0.506\\nsamples = 134\\nvalue = [119, 15]'),\n",
       " Text(115.0875, 21.744, 'entropy = 0.387\\nsamples = 1124\\nvalue = [1039, 85]'),\n",
       " Text(146.475, 65.232, 'X[5] <= -0.367\\nentropy = 0.473\\nsamples = 326\\nvalue = [293, 33]'),\n",
       " Text(136.01250000000002, 21.744, 'entropy = 0.242\\nsamples = 50\\nvalue = [48, 2]'),\n",
       " Text(156.9375, 21.744, 'entropy = 0.507\\nsamples = 276\\nvalue = [245, 31]'),\n",
       " Text(251.10000000000002, 152.208, 'X[6] <= 0.106\\nentropy = 0.98\\nsamples = 57248\\nvalue = [23866, 33382]'),\n",
       " Text(209.25, 108.72, 'X[7] <= 0.925\\nentropy = 0.869\\nsamples = 24190\\nvalue = [17179, 7011]'),\n",
       " Text(188.32500000000002, 65.232, 'X[7] <= -0.599\\nentropy = 0.82\\nsamples = 22971\\nvalue = [17102, 5869]'),\n",
       " Text(177.8625, 21.744, 'entropy = 0.674\\nsamples = 12271\\nvalue = [10098, 2173]'),\n",
       " Text(198.7875, 21.744, 'entropy = 0.93\\nsamples = 10700\\nvalue = [7004, 3696]'),\n",
       " Text(230.175, 65.232, 'X[1] <= 0.821\\nentropy = 0.34\\nsamples = 1219\\nvalue = [77, 1142]'),\n",
       " Text(219.7125, 21.744, 'entropy = 0.026\\nsamples = 1138\\nvalue = [3, 1135]'),\n",
       " Text(240.63750000000002, 21.744, 'entropy = 0.424\\nsamples = 81\\nvalue = [74, 7]'),\n",
       " Text(292.95, 108.72, 'X[1] <= 0.821\\nentropy = 0.726\\nsamples = 33058\\nvalue = [6687, 26371]'),\n",
       " Text(272.02500000000003, 65.232, 'X[4] <= 0.731\\nentropy = 0.385\\nsamples = 26888\\nvalue = [2022, 24866]'),\n",
       " Text(261.5625, 21.744, 'entropy = 0.53\\nsamples = 16239\\nvalue = [1950, 14289]'),\n",
       " Text(282.4875, 21.744, 'entropy = 0.058\\nsamples = 10649\\nvalue = [72, 10577]'),\n",
       " Text(313.875, 65.232, 'X[5] <= 0.288\\nentropy = 0.802\\nsamples = 6170\\nvalue = [4665, 1505]'),\n",
       " Text(303.4125, 21.744, 'entropy = 0.621\\nsamples = 4405\\nvalue = [3725, 680]'),\n",
       " Text(324.33750000000003, 21.744, 'entropy = 0.997\\nsamples = 1765\\nvalue = [940, 825]')]"
      ]
     },
     "execution_count": 27,
     "metadata": {},
     "output_type": "execute_result"
    },
    {
     "data": {
      "image/png": "[encoded data removed]",
      "text/plain": [
       "<Figure size 432x288 with 1 Axes>"
      ]
     },
     "metadata": {
      "needs_background": "light"
     },
     "output_type": "display_data"
    }
   ],
   "source": [
    "#visualisation of the tree\n",
    "from sklearn import tree\n",
    "SatisfiedTree = DecisionTreeClassifier(criterion=\"entropy\", max_depth = 4)\n",
    "SatisfiedTree.fit(X_train,y_train)\n",
    "tree.plot_tree(SatisfiedTree)"
   ]
  },
  {
   "cell_type": "markdown",
   "id": "6818f813",
   "metadata": {},
   "source": [
    "## Logistics Regression"
   ]
  },
  {
   "cell_type": "code",
   "execution_count": 28,
   "id": "3f36e332",
   "metadata": {},
   "outputs": [
    {
     "data": {
      "text/plain": [
       "LogisticRegression(C=0.01, solver='liblinear')"
      ]
     },
     "execution_count": 28,
     "metadata": {},
     "output_type": "execute_result"
    }
   ],
   "source": [
    "from sklearn.linear_model import LogisticRegression\n",
    "SatisfiedReg = LogisticRegression(C=0.01, solver='liblinear').fit(X_train,y_train)\n",
    "SatisfiedReg"
   ]
  },
  {
   "cell_type": "code",
   "execution_count": 36,
   "id": "7efff2ae",
   "metadata": {},
   "outputs": [
    {
     "data": {
      "text/plain": [
       "array(['neutral or dissatisfied', 'satisfied', 'neutral or dissatisfied',\n",
       "       ..., 'satisfied', 'satisfied', 'neutral or dissatisfied'],\n",
       "      dtype=object)"
      ]
     },
     "execution_count": 36,
     "metadata": {},
     "output_type": "execute_result"
    }
   ],
   "source": [
    "yhat = SatisfiedReg.predict(X_test)\n",
    "yhat"
   ]
  },
  {
   "cell_type": "code",
   "execution_count": 30,
   "id": "2def339a",
   "metadata": {},
   "outputs": [
    {
     "data": {
      "text/plain": [
       "array([[0.8620258 , 0.1379742 ],\n",
       "       [0.27086463, 0.72913537],\n",
       "       [0.69191245, 0.30808755],\n",
       "       ...,\n",
       "       [0.12298887, 0.87701113],\n",
       "       [0.18571205, 0.81428795],\n",
       "       [0.96758247, 0.03241753]])"
      ]
     },
     "execution_count": 30,
     "metadata": {},
     "output_type": "execute_result"
    }
   ],
   "source": [
    "#predict probability\n",
    "yhat_prob = SatisfiedReg.predict_proba(X_test)\n",
    "yhat_prob"
   ]
  },
  {
   "cell_type": "code",
   "execution_count": 32,
   "id": "5300c284",
   "metadata": {},
   "outputs": [],
   "source": [
    "# evaluation of the model using confusion matrix\n",
    "from sklearn.metrics import classification_report, confusion_matrix\n",
    "import itertools\n",
    "\n",
    "def plot_confusion_matrix(cm, classes,\n",
    "                          normalize=False,\n",
    "                          title='Confusion Matrix',\n",
    "                          cmap=plt.cm.Blues):\n",
    "    \"\"\"\n",
    "    This function prints and plots the confusion matrix.\n",
    "    Normalization can be applied by setting `normalize=True`.\n",
    "    \"\"\"\n",
    "    if normalize:\n",
    "        cm = cm.astype('float') / cm.sum(axis=1)[:, np.newaxis]\n",
    "        print(\"Normalized confusion matrix\")\n",
    "    else:\n",
    "        print('Confusion matrix, without normalization')\n",
    "\n",
    "    print(cm)\n",
    "\n",
    "    plt.imshow(cm, interpolation='nearest', cmap=cmap)\n",
    "    plt.title(title)\n",
    "    plt.colorbar()\n",
    "    tick_marks = np.arange(len(classes))\n",
    "    plt.xticks(tick_marks, classes, rotation=45)\n",
    "    plt.yticks(tick_marks, classes)\n",
    "\n",
    "    fmt = '.2f' if normalize else 'd'\n",
    "    thresh = cm.max() / 2.\n",
    "    for i, j in itertools.product(range(cm.shape[0]), range(cm.shape[1])):\n",
    "        plt.text(j, i, format(cm[i, j], fmt),\n",
    "                 horizontalalignment=\"center\",\n",
    "                 color=\"white\" if cm[i, j] > thresh else \"black\")\n",
    "    plt.tight_layout()\n",
    "    plt.ylabel('True label')\n",
    "    plt.xlabel('Predicted label')"
   ]
  },
  {
   "cell_type": "code",
   "execution_count": 33,
   "id": "1739fd11",
   "metadata": {},
   "outputs": [
    {
     "name": "stdout",
     "output_type": "stream",
     "text": [
      "                         precision    recall  f1-score   support\n",
      "\n",
      "neutral or dissatisfied       0.84      0.85      0.85     11821\n",
      "              satisfied       0.80      0.79      0.79      8898\n",
      "\n",
      "               accuracy                           0.82     20719\n",
      "              macro avg       0.82      0.82      0.82     20719\n",
      "           weighted avg       0.82      0.82      0.82     20719\n",
      "\n",
      "Confusion matrix, without normalization\n",
      "[[10082  1739]\n",
      " [ 1910  6988]]\n"
     ]
    },
    {
     "data": {
      "image/png": "[encoded data removed]",
      "text/plain": [
       "<Figure size 432x288 with 2 Axes>"
      ]
     },
     "metadata": {
      "needs_background": "light"
     },
     "output_type": "display_data"
    }
   ],
   "source": [
    "# Compute confusion matrix\n",
    "cnf_matrix = confusion_matrix(y_test, yhat)\n",
    "np.set_printoptions(precision=2)\n",
    "\n",
    "print(classification_report(y_test, yhat))\n",
    "\n",
    "# Plot non-normalized confusion matrix\n",
    "plt.figure()\n",
    "plot_confusion_matrix(cnf_matrix, classes=['neutral or dissatisfied','satisfied'], normalize=False, title='Confusion Matrix')"
   ]
  },
  {
   "cell_type": "code",
   "execution_count": null,
   "id": "c28a1842",
   "metadata": {},
   "outputs": [],
   "source": []
  },
  {
   "cell_type": "code",
   "execution_count": null,
   "id": "a78826ca",
   "metadata": {},
   "outputs": [],
   "source": []
  }
 ],
 "metadata": {
  "kernelspec": {
   "display_name": "Python 3 (ipykernel)",
   "language": "python",
   "name": "python3"
  },
  "language_info": {
   "codemirror_mode": {
    "name": "ipython",
    "version": 3
   },
   "file_extension": ".py",
   "mimetype": "text/x-python",
   "name": "python",
   "nbconvert_exporter": "python",
   "pygments_lexer": "ipython3",
   "version": "3.9.7"
  }
 },
 "nbformat": 4,
 "nbformat_minor": 5
}
